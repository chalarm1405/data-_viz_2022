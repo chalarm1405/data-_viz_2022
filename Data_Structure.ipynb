{
  "nbformat": 4,
  "nbformat_minor": 0,
  "metadata": {
    "colab": {
      "name": "Untitled37.ipynb",
      "provenance": [],
      "authorship_tag": "ABX9TyN9RBktXzznprbnVFWKnUv3",
      "include_colab_link": true
    },
    "kernelspec": {
      "name": "python3",
      "display_name": "Python 3"
    },
    "language_info": {
      "name": "python"
    }
  },
  "cells": [
    {
      "cell_type": "markdown",
      "metadata": {
        "id": "view-in-github",
        "colab_type": "text"
      },
      "source": [
        "<a href=\"https://colab.research.google.com/github/chalarm1405/data-_viz_2022/blob/main/Data_Structure.ipynb\" target=\"_parent\"><img src=\"https://colab.research.google.com/assets/colab-badge.svg\" alt=\"Open In Colab\"/></a>"
      ]
    },
    {
      "cell_type": "markdown",
      "source": [
        "#Data Structure (โครงสร้างข้อมูล)\n",
        "\n",
        "การเก็บข้อมูลหลายๆตัวไว้ด้วยกันอย่างเป็นระเบียบ\n",
        "\n",
        "#list()\n",
        "- เก็บอะไรก็ได้\n",
        "\n",
        "- ลำดับของการเก็บ มีความสำคัญ"
      ],
      "metadata": {
        "id": "yC-r8G_HPi6y"
      }
    },
    {
      "cell_type": "code",
      "source": [
        "list_a = [1,2,3,4,5,6] #[ ] square brackets"
      ],
      "metadata": {
        "id": "_A5snzlUPis2"
      },
      "execution_count": 1,
      "outputs": []
    },
    {
      "cell_type": "code",
      "source": [
        "list_a"
      ],
      "metadata": {
        "colab": {
          "base_uri": "https://localhost:8080/"
        },
        "id": "jwZkXdTUPiqn",
        "outputId": "420863f7-799f-4dde-d7ab-9cc374cfebcf"
      },
      "execution_count": 2,
      "outputs": [
        {
          "output_type": "execute_result",
          "data": {
            "text/plain": [
              "[1, 2, 3, 4, 5, 6]"
            ]
          },
          "metadata": {},
          "execution_count": 2
        }
      ]
    },
    {
      "cell_type": "code",
      "source": [
        "list_b = ['ab',2,3.14,list_a]"
      ],
      "metadata": {
        "id": "UQnvx3v-Pin_"
      },
      "execution_count": 3,
      "outputs": []
    },
    {
      "cell_type": "code",
      "source": [
        "list_b"
      ],
      "metadata": {
        "colab": {
          "base_uri": "https://localhost:8080/"
        },
        "id": "Mtwdd6kGPiln",
        "outputId": "63ab94c1-e6f5-4653-f0b5-d40aac4db890"
      },
      "execution_count": 4,
      "outputs": [
        {
          "output_type": "execute_result",
          "data": {
            "text/plain": [
              "['ab', 2, 3.14, [1, 2, 3, 4, 5, 6]]"
            ]
          },
          "metadata": {},
          "execution_count": 4
        }
      ]
    },
    {
      "cell_type": "markdown",
      "source": [
        "#indexing การชี้สมาชิกใน list ด้วย เลขลำดับของ list"
      ],
      "metadata": {
        "id": "lsXkPWKQRlmo"
      }
    },
    {
      "cell_type": "code",
      "source": [
        "list_a[3]"
      ],
      "metadata": {
        "colab": {
          "base_uri": "https://localhost:8080/"
        },
        "id": "XUvAxPp7PijS",
        "outputId": "abe08bab-ebd7-49e8-cfa7-2fbd775fa2b4"
      },
      "execution_count": 5,
      "outputs": [
        {
          "output_type": "execute_result",
          "data": {
            "text/plain": [
              "4"
            ]
          },
          "metadata": {},
          "execution_count": 5
        }
      ]
    },
    {
      "cell_type": "code",
      "source": [
        "list_b[3]"
      ],
      "metadata": {
        "colab": {
          "base_uri": "https://localhost:8080/"
        },
        "id": "oweCLdVMPien",
        "outputId": "7421c519-e215-4403-fec1-f85f0f7c737b"
      },
      "execution_count": 6,
      "outputs": [
        {
          "output_type": "execute_result",
          "data": {
            "text/plain": [
              "[1, 2, 3, 4, 5, 6]"
            ]
          },
          "metadata": {},
          "execution_count": 6
        }
      ]
    },
    {
      "cell_type": "code",
      "source": [
        "list_b[3][4]"
      ],
      "metadata": {
        "colab": {
          "base_uri": "https://localhost:8080/"
        },
        "id": "jG-_CbNHPicI",
        "outputId": "6e6ca0e9-35cb-4fee-955e-9696b5b80e54"
      },
      "execution_count": 7,
      "outputs": [
        {
          "output_type": "execute_result",
          "data": {
            "text/plain": [
              "5"
            ]
          },
          "metadata": {},
          "execution_count": 7
        }
      ]
    },
    {
      "cell_type": "code",
      "source": [
        "list_a[6]"
      ],
      "metadata": {
        "colab": {
          "base_uri": "https://localhost:8080/",
          "height": 167
        },
        "id": "AY0xpLJHPiaL",
        "outputId": "f45b2518-fa93-4be7-c6a0-a6f9d175293c"
      },
      "execution_count": 9,
      "outputs": [
        {
          "output_type": "error",
          "ename": "IndexError",
          "evalue": "ignored",
          "traceback": [
            "\u001b[0;31m---------------------------------------------------------------------------\u001b[0m",
            "\u001b[0;31mIndexError\u001b[0m                                Traceback (most recent call last)",
            "\u001b[0;32m<ipython-input-9-d6b61775e813>\u001b[0m in \u001b[0;36m<module>\u001b[0;34m()\u001b[0m\n\u001b[0;32m----> 1\u001b[0;31m \u001b[0mlist_a\u001b[0m\u001b[0;34m[\u001b[0m\u001b[0;36m6\u001b[0m\u001b[0;34m]\u001b[0m\u001b[0;34m\u001b[0m\u001b[0;34m\u001b[0m\u001b[0m\n\u001b[0m",
            "\u001b[0;31mIndexError\u001b[0m: list index out of range"
          ]
        }
      ]
    },
    {
      "cell_type": "code",
      "source": [
        "list_a[-1] #index -1 คือตัวสุดท้ายของ list"
      ],
      "metadata": {
        "id": "Emefv2DCPiX1"
      },
      "execution_count": null,
      "outputs": []
    },
    {
      "cell_type": "code",
      "source": [
        "list_a[-4]"
      ],
      "metadata": {
        "id": "s-ZxQGz6PiVm"
      },
      "execution_count": null,
      "outputs": []
    },
    {
      "cell_type": "markdown",
      "source": [
        "#การสร้าง list()"
      ],
      "metadata": {
        "id": "A_yrB46NRtZy"
      }
    },
    {
      "cell_type": "code",
      "source": [
        "list_x1 = [] # แบบที่ 1\n",
        "list_x2 = list() #แบบที่ 2"
      ],
      "metadata": {
        "id": "hZkyvZFWPiTR"
      },
      "execution_count": null,
      "outputs": []
    },
    {
      "cell_type": "code",
      "source": [
        "print(list_x1)\n",
        "print(list_x2)"
      ],
      "metadata": {
        "colab": {
          "base_uri": "https://localhost:8080/",
          "height": 184
        },
        "id": "LZEq4YoXPiQ4",
        "outputId": "26144587-19bf-4c2d-e3b3-797b5f469e89"
      },
      "execution_count": 10,
      "outputs": [
        {
          "output_type": "error",
          "ename": "NameError",
          "evalue": "ignored",
          "traceback": [
            "\u001b[0;31m---------------------------------------------------------------------------\u001b[0m",
            "\u001b[0;31mNameError\u001b[0m                                 Traceback (most recent call last)",
            "\u001b[0;32m<ipython-input-10-7a6e1bb11c28>\u001b[0m in \u001b[0;36m<module>\u001b[0;34m()\u001b[0m\n\u001b[0;32m----> 1\u001b[0;31m \u001b[0mprint\u001b[0m\u001b[0;34m(\u001b[0m\u001b[0mlist_x1\u001b[0m\u001b[0;34m)\u001b[0m\u001b[0;34m\u001b[0m\u001b[0;34m\u001b[0m\u001b[0m\n\u001b[0m\u001b[1;32m      2\u001b[0m \u001b[0mprint\u001b[0m\u001b[0;34m(\u001b[0m\u001b[0mlist_x2\u001b[0m\u001b[0;34m)\u001b[0m\u001b[0;34m\u001b[0m\u001b[0;34m\u001b[0m\u001b[0m\n",
            "\u001b[0;31mNameError\u001b[0m: name 'list_x1' is not defined"
          ]
        }
      ]
    },
    {
      "cell_type": "markdown",
      "source": [
        "#เพิ่มสมาชิกเข้าไปใน list ด้วย append()"
      ],
      "metadata": {
        "id": "J5m8fhxqRw_0"
      }
    },
    {
      "cell_type": "code",
      "source": [
        "list_x1.append(2)"
      ],
      "metadata": {
        "id": "VfvUpfQyPiOz"
      },
      "execution_count": null,
      "outputs": []
    },
    {
      "cell_type": "code",
      "source": [
        "list_x1"
      ],
      "metadata": {
        "id": "h2NBAVC2PiMc"
      },
      "execution_count": null,
      "outputs": []
    },
    {
      "cell_type": "code",
      "source": [
        "list_x1.append(4)\n",
        "print(list_x1)"
      ],
      "metadata": {
        "id": "C15Fp5KLPiKR"
      },
      "execution_count": null,
      "outputs": []
    },
    {
      "cell_type": "code",
      "source": [
        "list_x1[0]"
      ],
      "metadata": {
        "colab": {
          "base_uri": "https://localhost:8080/",
          "height": 167
        },
        "id": "u9WOC3LfPiIS",
        "outputId": "4341eeef-af00-4ba3-f83c-0cbcdb8b80e4"
      },
      "execution_count": 11,
      "outputs": [
        {
          "output_type": "error",
          "ename": "NameError",
          "evalue": "ignored",
          "traceback": [
            "\u001b[0;31m---------------------------------------------------------------------------\u001b[0m",
            "\u001b[0;31mNameError\u001b[0m                                 Traceback (most recent call last)",
            "\u001b[0;32m<ipython-input-11-031ebfb4aa15>\u001b[0m in \u001b[0;36m<module>\u001b[0;34m()\u001b[0m\n\u001b[0;32m----> 1\u001b[0;31m \u001b[0mlist_x1\u001b[0m\u001b[0;34m[\u001b[0m\u001b[0;36m0\u001b[0m\u001b[0;34m]\u001b[0m\u001b[0;34m\u001b[0m\u001b[0;34m\u001b[0m\u001b[0m\n\u001b[0m",
            "\u001b[0;31mNameError\u001b[0m: name 'list_x1' is not defined"
          ]
        }
      ]
    },
    {
      "cell_type": "code",
      "source": [
        "list_x1[0]"
      ],
      "metadata": {
        "id": "kFRMe-S0PiGF"
      },
      "execution_count": null,
      "outputs": []
    },
    {
      "cell_type": "code",
      "source": [
        "list_x1[-1]"
      ],
      "metadata": {
        "id": "5YpZxKG1PiD2"
      },
      "execution_count": null,
      "outputs": []
    },
    {
      "cell_type": "code",
      "source": [
        "list_x2.append('ha')"
      ],
      "metadata": {
        "id": "-w4RXB7ZPiBh"
      },
      "execution_count": null,
      "outputs": []
    },
    {
      "cell_type": "code",
      "source": [
        "list_x2"
      ],
      "metadata": {
        "colab": {
          "base_uri": "https://localhost:8080/",
          "height": 167
        },
        "id": "EZht68qIR49k",
        "outputId": "c2f75ef7-0f9e-438e-effc-6c6f2f410d60"
      },
      "execution_count": 12,
      "outputs": [
        {
          "output_type": "error",
          "ename": "NameError",
          "evalue": "ignored",
          "traceback": [
            "\u001b[0;31m---------------------------------------------------------------------------\u001b[0m",
            "\u001b[0;31mNameError\u001b[0m                                 Traceback (most recent call last)",
            "\u001b[0;32m<ipython-input-12-4625f10a802b>\u001b[0m in \u001b[0;36m<module>\u001b[0;34m()\u001b[0m\n\u001b[0;32m----> 1\u001b[0;31m \u001b[0mlist_x2\u001b[0m\u001b[0;34m\u001b[0m\u001b[0;34m\u001b[0m\u001b[0m\n\u001b[0m",
            "\u001b[0;31mNameError\u001b[0m: name 'list_x2' is not defined"
          ]
        }
      ]
    },
    {
      "cell_type": "markdown",
      "source": [
        "#ลบสมาชิกจาก list"
      ],
      "metadata": {
        "id": "W3OJ83SBR60L"
      }
    },
    {
      "cell_type": "code",
      "source": [
        "list_x1.append('ha')"
      ],
      "metadata": {
        "id": "NyFpPZcdR47l"
      },
      "execution_count": null,
      "outputs": []
    },
    {
      "cell_type": "code",
      "source": [
        "list_x1"
      ],
      "metadata": {
        "id": "ckM0RGrXR45Q"
      },
      "execution_count": null,
      "outputs": []
    },
    {
      "cell_type": "code",
      "source": [
        "list_x1.pop()"
      ],
      "metadata": {
        "colab": {
          "base_uri": "https://localhost:8080/",
          "height": 167
        },
        "id": "yOa0eVVpR43J",
        "outputId": "6f200e78-7df5-4576-84b2-80934a83e186"
      },
      "execution_count": 13,
      "outputs": [
        {
          "output_type": "error",
          "ename": "NameError",
          "evalue": "ignored",
          "traceback": [
            "\u001b[0;31m---------------------------------------------------------------------------\u001b[0m",
            "\u001b[0;31mNameError\u001b[0m                                 Traceback (most recent call last)",
            "\u001b[0;32m<ipython-input-13-98fce607081c>\u001b[0m in \u001b[0;36m<module>\u001b[0;34m()\u001b[0m\n\u001b[0;32m----> 1\u001b[0;31m \u001b[0mlist_x1\u001b[0m\u001b[0;34m.\u001b[0m\u001b[0mpop\u001b[0m\u001b[0;34m(\u001b[0m\u001b[0;34m)\u001b[0m\u001b[0;34m\u001b[0m\u001b[0;34m\u001b[0m\u001b[0m\n\u001b[0m",
            "\u001b[0;31mNameError\u001b[0m: name 'list_x1' is not defined"
          ]
        }
      ]
    },
    {
      "cell_type": "code",
      "source": [
        "list_x1"
      ],
      "metadata": {
        "id": "_YXExD6IR41b"
      },
      "execution_count": null,
      "outputs": []
    },
    {
      "cell_type": "code",
      "source": [
        "list_x1.pop()\n",
        "print(list_x1)"
      ],
      "metadata": {
        "id": "Gu7Za9Y2R4y3"
      },
      "execution_count": null,
      "outputs": []
    },
    {
      "cell_type": "markdown",
      "source": [
        "#len() ตรวจสอบจำนวนสมาชิกของ list"
      ],
      "metadata": {
        "id": "7Kh8bBdTSBGR"
      }
    },
    {
      "cell_type": "code",
      "source": [
        "print(list_b)\n",
        "print(len(list_b))"
      ],
      "metadata": {
        "colab": {
          "base_uri": "https://localhost:8080/"
        },
        "id": "s2uaCnw_R4wf",
        "outputId": "b98ae7c2-f767-4530-e9ee-e255838bdf64"
      },
      "execution_count": 14,
      "outputs": [
        {
          "output_type": "stream",
          "name": "stdout",
          "text": [
            "['ab', 2, 3.14, [1, 2, 3, 4, 5, 6]]\n",
            "4\n"
          ]
        }
      ]
    },
    {
      "cell_type": "code",
      "source": [
        "len(list_a)"
      ],
      "metadata": {
        "colab": {
          "base_uri": "https://localhost:8080/"
        },
        "id": "KjcoMA8iR4uZ",
        "outputId": "510234d8-c639-444d-d746-7f55f347d1b7"
      },
      "execution_count": 15,
      "outputs": [
        {
          "output_type": "execute_result",
          "data": {
            "text/plain": [
              "6"
            ]
          },
          "metadata": {},
          "execution_count": 15
        }
      ]
    },
    {
      "cell_type": "markdown",
      "source": [
        "#String is a list of characters"
      ],
      "metadata": {
        "id": "aTNZ0q-MSEm7"
      }
    },
    {
      "cell_type": "code",
      "source": [
        "st_stat = 'Department os statistics, Faculty of Science'"
      ],
      "metadata": {
        "id": "020OECVOR4sT"
      },
      "execution_count": 16,
      "outputs": []
    },
    {
      "cell_type": "code",
      "source": [
        "st_stat[10]"
      ],
      "metadata": {
        "colab": {
          "base_uri": "https://localhost:8080/",
          "height": 34
        },
        "id": "XUjBOvOZR4qd",
        "outputId": "8ea337d6-35ba-49ea-a9bd-d5646363d317"
      },
      "execution_count": 17,
      "outputs": [
        {
          "output_type": "execute_result",
          "data": {
            "application/vnd.google.colaboratory.intrinsic+json": {
              "type": "string"
            },
            "text/plain": [
              "' '"
            ]
          },
          "metadata": {},
          "execution_count": 17
        }
      ]
    },
    {
      "cell_type": "code",
      "source": [
        "len(st_stat)"
      ],
      "metadata": {
        "colab": {
          "base_uri": "https://localhost:8080/"
        },
        "id": "IDg3jkG7R4oY",
        "outputId": "6cbd2595-4ce6-4fb1-b5da-5cbe7c40d693"
      },
      "execution_count": 18,
      "outputs": [
        {
          "output_type": "execute_result",
          "data": {
            "text/plain": [
              "44"
            ]
          },
          "metadata": {},
          "execution_count": 18
        }
      ]
    },
    {
      "cell_type": "markdown",
      "source": [
        "#List Slicing :\n",
        "\n",
        "  list[จุดเริ่มต้น (ทึบ):จุดสุดท้าย (โปร่ง)]\n",
        "\n",
        "  list[จุดเริ่มต้น (ทึบ):จุดสุดท้าย (โปร่ง):step]"
      ],
      "metadata": {
        "id": "S2x5oybgSJWF"
      }
    },
    {
      "cell_type": "markdown",
      "source": [
        "![Screenshot 2021-12-23 193417.jpg](data:image/jpeg;base64,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)"
      ],
      "metadata": {
        "id": "eEPN7RwDSRUL"
      }
    },
    {
      "cell_type": "code",
      "source": [
        "list_a"
      ],
      "metadata": {
        "colab": {
          "base_uri": "https://localhost:8080/"
        },
        "id": "o8loFvmiR4mK",
        "outputId": "3b493436-70e5-49fc-c284-a3799d9751b6"
      },
      "execution_count": 19,
      "outputs": [
        {
          "output_type": "execute_result",
          "data": {
            "text/plain": [
              "[1, 2, 3, 4, 5, 6]"
            ]
          },
          "metadata": {},
          "execution_count": 19
        }
      ]
    },
    {
      "cell_type": "code",
      "source": [
        "list_a[2]"
      ],
      "metadata": {
        "colab": {
          "base_uri": "https://localhost:8080/"
        },
        "id": "jdMS7kMjR4jy",
        "outputId": "d88fe4e8-5e9c-4020-9e1d-5a58e58001fc"
      },
      "execution_count": 20,
      "outputs": [
        {
          "output_type": "execute_result",
          "data": {
            "text/plain": [
              "3"
            ]
          },
          "metadata": {},
          "execution_count": 20
        }
      ]
    },
    {
      "cell_type": "markdown",
      "source": [
        "#: colon"
      ],
      "metadata": {
        "id": "i4ln5n1DSbHk"
      }
    },
    {
      "cell_type": "code",
      "source": [
        "list_a[-3:] # : colon"
      ],
      "metadata": {
        "colab": {
          "base_uri": "https://localhost:8080/"
        },
        "id": "tIusmziVR4e-",
        "outputId": "0fbaeedd-13ca-47ff-9cdb-675446eff0e2"
      },
      "execution_count": 21,
      "outputs": [
        {
          "output_type": "execute_result",
          "data": {
            "text/plain": [
              "[4, 5, 6]"
            ]
          },
          "metadata": {},
          "execution_count": 21
        }
      ]
    },
    {
      "cell_type": "code",
      "source": [
        "list_a[:4]"
      ],
      "metadata": {
        "colab": {
          "base_uri": "https://localhost:8080/"
        },
        "id": "8r_hyzngSdIV",
        "outputId": "54f973c8-7b00-4d06-914f-96c69d17667d"
      },
      "execution_count": 22,
      "outputs": [
        {
          "output_type": "execute_result",
          "data": {
            "text/plain": [
              "[1, 2, 3, 4]"
            ]
          },
          "metadata": {},
          "execution_count": 22
        }
      ]
    },
    {
      "cell_type": "code",
      "source": [
        "list_a[1:4]"
      ],
      "metadata": {
        "colab": {
          "base_uri": "https://localhost:8080/"
        },
        "id": "FPCxPOl5SdGd",
        "outputId": "e0374fc7-c8c6-42aa-df3e-7d31317ab923"
      },
      "execution_count": 23,
      "outputs": [
        {
          "output_type": "execute_result",
          "data": {
            "text/plain": [
              "[2, 3, 4]"
            ]
          },
          "metadata": {},
          "execution_count": 23
        }
      ]
    },
    {
      "cell_type": "code",
      "source": [
        "list_a[:]"
      ],
      "metadata": {
        "colab": {
          "base_uri": "https://localhost:8080/"
        },
        "id": "clzAqtPISdEO",
        "outputId": "488d6437-cf5b-4ca3-c211-aba30791ff89"
      },
      "execution_count": 24,
      "outputs": [
        {
          "output_type": "execute_result",
          "data": {
            "text/plain": [
              "[1, 2, 3, 4, 5, 6]"
            ]
          },
          "metadata": {},
          "execution_count": 24
        }
      ]
    },
    {
      "cell_type": "markdown",
      "source": [
        "#step"
      ],
      "metadata": {
        "id": "jfcCCtk7SiiA"
      }
    },
    {
      "cell_type": "code",
      "source": [
        "list_c = [1,2,3,4,5,6,7,8,9,10,11,12,13]"
      ],
      "metadata": {
        "id": "hX4OxoHMSdCB"
      },
      "execution_count": 25,
      "outputs": []
    },
    {
      "cell_type": "code",
      "source": [
        "list_c[:10:]"
      ],
      "metadata": {
        "colab": {
          "base_uri": "https://localhost:8080/"
        },
        "id": "1s52tPxbSc_v",
        "outputId": "a1cd60cf-b10f-44a8-f14c-86f2b25edc91"
      },
      "execution_count": 26,
      "outputs": [
        {
          "output_type": "execute_result",
          "data": {
            "text/plain": [
              "[1, 2, 3, 4, 5, 6, 7, 8, 9, 10]"
            ]
          },
          "metadata": {},
          "execution_count": 26
        }
      ]
    },
    {
      "cell_type": "code",
      "source": [
        "list_c[:10:2]"
      ],
      "metadata": {
        "colab": {
          "base_uri": "https://localhost:8080/"
        },
        "id": "cbnQnqmDSc9m",
        "outputId": "bd3ea062-c80c-42f3-c136-e3cd7bff5838"
      },
      "execution_count": 27,
      "outputs": [
        {
          "output_type": "execute_result",
          "data": {
            "text/plain": [
              "[1, 3, 5, 7, 9]"
            ]
          },
          "metadata": {},
          "execution_count": 27
        }
      ]
    },
    {
      "cell_type": "code",
      "source": [
        "list_c[::-1]"
      ],
      "metadata": {
        "colab": {
          "base_uri": "https://localhost:8080/"
        },
        "id": "X3YzNvKOSc7f",
        "outputId": "4e1b9913-208d-4530-f52b-f12a696daac0"
      },
      "execution_count": 28,
      "outputs": [
        {
          "output_type": "execute_result",
          "data": {
            "text/plain": [
              "[13, 12, 11, 10, 9, 8, 7, 6, 5, 4, 3, 2, 1]"
            ]
          },
          "metadata": {},
          "execution_count": 28
        }
      ]
    },
    {
      "cell_type": "markdown",
      "source": [
        "#range()"
      ],
      "metadata": {
        "id": "T34OydefSoo0"
      }
    },
    {
      "cell_type": "code",
      "source": [
        "a = list(range(21))"
      ],
      "metadata": {
        "id": "MXszHE3LSc5R"
      },
      "execution_count": 29,
      "outputs": []
    },
    {
      "cell_type": "code",
      "source": [
        "a"
      ],
      "metadata": {
        "colab": {
          "base_uri": "https://localhost:8080/"
        },
        "id": "vZqgLUWwSpkb",
        "outputId": "69c10e0d-62c1-4d03-97cb-4e461b79e7c0"
      },
      "execution_count": 30,
      "outputs": [
        {
          "output_type": "execute_result",
          "data": {
            "text/plain": [
              "[0, 1, 2, 3, 4, 5, 6, 7, 8, 9, 10, 11, 12, 13, 14, 15, 16, 17, 18, 19, 20]"
            ]
          },
          "metadata": {},
          "execution_count": 30
        }
      ]
    },
    {
      "cell_type": "code",
      "source": [
        "list(range(1,21))"
      ],
      "metadata": {
        "colab": {
          "base_uri": "https://localhost:8080/"
        },
        "id": "nougKcfPSpiv",
        "outputId": "23eb9651-4a1c-455a-a173-397bfe093b69"
      },
      "execution_count": 31,
      "outputs": [
        {
          "output_type": "execute_result",
          "data": {
            "text/plain": [
              "[1, 2, 3, 4, 5, 6, 7, 8, 9, 10, 11, 12, 13, 14, 15, 16, 17, 18, 19, 20]"
            ]
          },
          "metadata": {},
          "execution_count": 31
        }
      ]
    },
    {
      "cell_type": "markdown",
      "source": [
        "#HW2 คำนวณเวลาเป็นวินาทีของเวลาต่อไปนี้โดยใช้คำสั่ง split() ช่วย (print ออกมาให้สวยงาม)\n",
        "\n",
        "- 12:30:15\n",
        "- 13:41:07\n",
        "- 09:11:50\n",
        "- 21:30:15\n",
        "- 03:10:15"
      ],
      "metadata": {
        "id": "ED8_MhkdTKdl"
      }
    },
    {
      "cell_type": "markdown",
      "source": [
        "#ข้อที่ 1 : 01:02:03 "
      ],
      "metadata": {
        "id": "l1sVfeLiTsJq"
      }
    },
    {
      "cell_type": "code",
      "source": [
        "a = (1*60*60) + (2*60) + 3\n",
        "print(f'01:02:03 แปลงเป็นวินาทีได้ {a} วินาที')"
      ],
      "metadata": {
        "colab": {
          "base_uri": "https://localhost:8080/"
        },
        "id": "G7CG2x_OSpgs",
        "outputId": "940adb0f-2eed-456c-d040-f739d730c774"
      },
      "execution_count": 32,
      "outputs": [
        {
          "output_type": "stream",
          "name": "stdout",
          "text": [
            "01:02:03 แปลงเป็นวินาทีได้ 3723 วินาที\n"
          ]
        }
      ]
    },
    {
      "cell_type": "markdown",
      "source": [
        "#ข้อที่ 2 : 12:30:15"
      ],
      "metadata": {
        "id": "o2pB0R-eTuhw"
      }
    },
    {
      "cell_type": "code",
      "source": [
        "HW2_1 = '12:30:15'\n",
        "HW2_1_sp = HW2_1.split(':')\n",
        "answer_2 = int(HW2_1_sp[0]) * 3600 + int(HW2_1_sp[1]) * 60 +int(HW2_1_sp[2])\n",
        "print(f'เวลา {HW2_1} แปลงเป็นวินาทีได้ {answer_2} วินาที')"
      ],
      "metadata": {
        "colab": {
          "base_uri": "https://localhost:8080/"
        },
        "id": "90N_hdigSpe7",
        "outputId": "ec18c123-3108-4c78-cfbf-66d75ad959a9"
      },
      "execution_count": 33,
      "outputs": [
        {
          "output_type": "stream",
          "name": "stdout",
          "text": [
            "เวลา 12:30:15 แปลงเป็นวินาทีได้ 45015 วินาที\n"
          ]
        }
      ]
    },
    {
      "cell_type": "markdown",
      "source": [
        "#ข้อที่ 3 : 13:41:07"
      ],
      "metadata": {
        "id": "OiwZiauhTvjM"
      }
    },
    {
      "cell_type": "code",
      "source": [
        "HW2_2 = '13:41:07'\n",
        "HW2_2_sp = HW2_2.split(':')\n",
        "answer_3 = int(HW2_2_sp[0]) * 3600 + int(HW2_2_sp[1]) * 60 +int(HW2_2_sp[2])\n",
        "print(f'เวลา {HW2_2} แปลงเป็นวินาทีได้ {answer_3} วินาที')"
      ],
      "metadata": {
        "colab": {
          "base_uri": "https://localhost:8080/"
        },
        "id": "XIGCbNZsSpc6",
        "outputId": "fa93bc2d-86ea-4ac2-d2e7-8b759f514f54"
      },
      "execution_count": 34,
      "outputs": [
        {
          "output_type": "stream",
          "name": "stdout",
          "text": [
            "เวลา 13:41:07 แปลงเป็นวินาทีได้ 49267 วินาที\n"
          ]
        }
      ]
    },
    {
      "cell_type": "markdown",
      "source": [
        "##ข้อที่ 4 : 09:11:50"
      ],
      "metadata": {
        "id": "eow6Eq3DTw9h"
      }
    },
    {
      "cell_type": "code",
      "source": [
        "HW2_3 = '09:11:50'\n",
        "HW2_3_sp = HW2_3.split(':')\n",
        "answer_4 = int(HW2_3_sp[0]) * 3600 + int(HW2_3_sp[1]) * 60 +int(HW2_3_sp[2])\n",
        "print(f'เวลา {HW2_3} แปลงเป็นวินาทีได้ {answer_4} วินาที')"
      ],
      "metadata": {
        "colab": {
          "base_uri": "https://localhost:8080/"
        },
        "id": "CNE4JsPZSpaw",
        "outputId": "22e55ed2-8650-4278-d495-7807424cbc65"
      },
      "execution_count": 35,
      "outputs": [
        {
          "output_type": "stream",
          "name": "stdout",
          "text": [
            "เวลา 09:11:50 แปลงเป็นวินาทีได้ 33110 วินาที\n"
          ]
        }
      ]
    },
    {
      "cell_type": "markdown",
      "source": [
        "##ข้อที่ 5 : 21:30:15"
      ],
      "metadata": {
        "id": "voyCYhuNTy3K"
      }
    },
    {
      "cell_type": "code",
      "source": [
        "HW2_4 = '21:30:15'\n",
        "HW2_4_sp = HW2_4.split(':')\n",
        "answer_5 = int(HW2_4_sp[0]) * 3600 + int(HW2_4_sp[1]) * 60 +int(HW2_4_sp[2])\n",
        "print(f'เวลา {HW2_4} แปลงเป็นวินาทีได้ {answer_5} วินาที')"
      ],
      "metadata": {
        "colab": {
          "base_uri": "https://localhost:8080/"
        },
        "id": "AJWCikR3SpY8",
        "outputId": "04bef9a4-4450-47ef-adeb-bf3ce953e53e"
      },
      "execution_count": 36,
      "outputs": [
        {
          "output_type": "stream",
          "name": "stdout",
          "text": [
            "เวลา 21:30:15 แปลงเป็นวินาทีได้ 77415 วินาที\n"
          ]
        }
      ]
    },
    {
      "cell_type": "markdown",
      "source": [
        "##ข้อที่ 6 : 03:10:15\n"
      ],
      "metadata": {
        "id": "Mowoi59AT0Jt"
      }
    },
    {
      "cell_type": "code",
      "source": [
        "HW2_5 = '03:10:15'\n",
        "HW2_5_sp = HW2_5.split(':')\n",
        "answer_6 = int(HW2_5_sp[0]) * 3600 + int(HW2_5_sp[1]) * 60 +int(HW2_5_sp[2])\n",
        "print(f'เวลา {HW2_5} แปลงเป็นวินาทีได้ {answer_6} วินาที')"
      ],
      "metadata": {
        "colab": {
          "base_uri": "https://localhost:8080/"
        },
        "id": "-OdtAjVgSpW4",
        "outputId": "a6fa4cae-c7ab-4c1c-f100-9f0d762d87fe"
      },
      "execution_count": 37,
      "outputs": [
        {
          "output_type": "stream",
          "name": "stdout",
          "text": [
            "เวลา 03:10:15 แปลงเป็นวินาทีได้ 11415 วินาที\n"
          ]
        }
      ]
    },
    {
      "cell_type": "markdown",
      "source": [
        "#DICTIONARY"
      ],
      "metadata": {
        "id": "eL9I-MCrOl6Y"
      }
    },
    {
      "cell_type": "markdown",
      "source": [
        "- คล้าย list()\n",
        "- แต่ index เป็นอะไรก็ได้ไม่จำเป็นต้องเป้นตัวเลขลำดับ\n",
        "- ลำดับจะไม่มีความสำคัญใน DICTIONARY"
      ],
      "metadata": {
        "id": "GFVXkLttPLM0"
      }
    },
    {
      "cell_type": "markdown",
      "source": [
        "#การสร้าง DICTIONARY"
      ],
      "metadata": {
        "id": "czKHmTGgQ4gH"
      }
    },
    {
      "cell_type": "code",
      "source": [
        "dict_a = {1:'Happy','N':'New','2022':'Year'} #{} เรียกว่า curly brackets"
      ],
      "metadata": {
        "id": "hdueK_jfPLF0"
      },
      "execution_count": 38,
      "outputs": []
    },
    {
      "cell_type": "markdown",
      "source": [
        "#การชี้สมาชิกใน DICYIONARY"
      ],
      "metadata": {
        "id": "W3QmAQqTQ9iv"
      }
    },
    {
      "cell_type": "code",
      "source": [
        "dict_a[1]"
      ],
      "metadata": {
        "id": "G_DGxr50SpVC",
        "outputId": "4f3312e1-a229-437d-a706-fa89ff4a8bfa",
        "colab": {
          "base_uri": "https://localhost:8080/",
          "height": 34
        }
      },
      "execution_count": 39,
      "outputs": [
        {
          "output_type": "execute_result",
          "data": {
            "application/vnd.google.colaboratory.intrinsic+json": {
              "type": "string"
            },
            "text/plain": [
              "'Happy'"
            ]
          },
          "metadata": {},
          "execution_count": 39
        }
      ]
    },
    {
      "cell_type": "code",
      "source": [
        "dict_a['N']"
      ],
      "metadata": {
        "id": "O5AFAz6kMDBW",
        "outputId": "2d975067-2788-4068-d922-3b5fddab8427",
        "colab": {
          "base_uri": "https://localhost:8080/",
          "height": 34
        }
      },
      "execution_count": 40,
      "outputs": [
        {
          "output_type": "execute_result",
          "data": {
            "application/vnd.google.colaboratory.intrinsic+json": {
              "type": "string"
            },
            "text/plain": [
              "'New'"
            ]
          },
          "metadata": {},
          "execution_count": 40
        }
      ]
    },
    {
      "cell_type": "code",
      "source": [
        "dict_a.keys()"
      ],
      "metadata": {
        "id": "IAawC8MHMEAO",
        "outputId": "34728e49-f3f0-4b38-8674-0a8d5f0d9f90",
        "colab": {
          "base_uri": "https://localhost:8080/"
        }
      },
      "execution_count": 41,
      "outputs": [
        {
          "output_type": "execute_result",
          "data": {
            "text/plain": [
              "dict_keys([1, 'N', '2022'])"
            ]
          },
          "metadata": {},
          "execution_count": 41
        }
      ]
    },
    {
      "cell_type": "markdown",
      "source": [
        "#การเพิ่มสมาชิกลงใน DICTIONARY "
      ],
      "metadata": {
        "id": "D9ts9ODSRDF2"
      }
    },
    {
      "cell_type": "code",
      "source": [
        "dict_a[7] = 3.14"
      ],
      "metadata": {
        "id": "tJfR0EXBMD94"
      },
      "execution_count": 42,
      "outputs": []
    },
    {
      "cell_type": "code",
      "source": [
        "dict_a"
      ],
      "metadata": {
        "id": "IlVhh5YVMD7y",
        "outputId": "72d4dc8d-8fbb-4cd3-8080-76d0aea387df",
        "colab": {
          "base_uri": "https://localhost:8080/"
        }
      },
      "execution_count": 43,
      "outputs": [
        {
          "output_type": "execute_result",
          "data": {
            "text/plain": [
              "{1: 'Happy', '2022': 'Year', 7: 3.14, 'N': 'New'}"
            ]
          },
          "metadata": {},
          "execution_count": 43
        }
      ]
    },
    {
      "cell_type": "code",
      "source": [
        "dict_a['N'] = 'NNNNEEEEWWWW'"
      ],
      "metadata": {
        "id": "TU8t7MZDMC-2"
      },
      "execution_count": 44,
      "outputs": []
    },
    {
      "cell_type": "code",
      "source": [
        "dict_a"
      ],
      "metadata": {
        "id": "bOjmUV2bMC8f",
        "outputId": "00f0bded-f16f-4ebc-b1c7-76f1b6372d04",
        "colab": {
          "base_uri": "https://localhost:8080/"
        }
      },
      "execution_count": 45,
      "outputs": [
        {
          "output_type": "execute_result",
          "data": {
            "text/plain": [
              "{1: 'Happy', '2022': 'Year', 7: 3.14, 'N': 'NNNNEEEEWWWW'}"
            ]
          },
          "metadata": {},
          "execution_count": 45
        }
      ]
    },
    {
      "cell_type": "markdown",
      "source": [
        "#Numpy Array"
      ],
      "metadata": {
        "id": "YxpwdD9YOqS1"
      }
    },
    {
      "cell_type": "markdown",
      "source": [
        "- เก็บได้แต่ตัวเลข\n",
        "- อ้างอิงโดยใช้พิกัด  ( 2 มิติ ก็มองเป็น matrix )"
      ],
      "metadata": {
        "id": "NOczsikKUcVk"
      }
    },
    {
      "cell_type": "markdown",
      "source": [
        "#1D array"
      ],
      "metadata": {
        "id": "urMKUHXvYEQn"
      }
    },
    {
      "cell_type": "code",
      "source": [
        "import numpy"
      ],
      "metadata": {
        "id": "XQ0FNW41MC6P"
      },
      "execution_count": 46,
      "outputs": []
    },
    {
      "cell_type": "code",
      "source": [
        "list_A = [1,2,3,4,5]"
      ],
      "metadata": {
        "id": "eLeRkKeVV8MK"
      },
      "execution_count": 47,
      "outputs": []
    },
    {
      "cell_type": "code",
      "source": [
        "arr_a = numpy.array([1,2,3,4,5])"
      ],
      "metadata": {
        "id": "OIm3k8xfMC36"
      },
      "execution_count": 48,
      "outputs": []
    },
    {
      "cell_type": "code",
      "source": [
        "arr_a"
      ],
      "metadata": {
        "id": "rN0zubqdMC1k",
        "outputId": "2408be44-7ada-4649-c16d-73e8a1a30f74",
        "colab": {
          "base_uri": "https://localhost:8080/"
        }
      },
      "execution_count": 49,
      "outputs": [
        {
          "output_type": "execute_result",
          "data": {
            "text/plain": [
              "array([1, 2, 3, 4, 5])"
            ]
          },
          "metadata": {},
          "execution_count": 49
        }
      ]
    },
    {
      "cell_type": "code",
      "source": [
        "list_A"
      ],
      "metadata": {
        "id": "jlUAyVYdMCw6",
        "outputId": "904ba4b4-50c3-43ff-c737-b23516718e7b",
        "colab": {
          "base_uri": "https://localhost:8080/"
        }
      },
      "execution_count": 50,
      "outputs": [
        {
          "output_type": "execute_result",
          "data": {
            "text/plain": [
              "[1, 2, 3, 4, 5]"
            ]
          },
          "metadata": {},
          "execution_count": 50
        }
      ]
    },
    {
      "cell_type": "code",
      "source": [
        "arr_a[0]"
      ],
      "metadata": {
        "id": "OlnlDlVEMCzO",
        "outputId": "dc01d8d3-6822-4203-de0e-fb4321d9b4cd",
        "colab": {
          "base_uri": "https://localhost:8080/"
        }
      },
      "execution_count": 51,
      "outputs": [
        {
          "output_type": "execute_result",
          "data": {
            "text/plain": [
              "1"
            ]
          },
          "metadata": {},
          "execution_count": 51
        }
      ]
    },
    {
      "cell_type": "code",
      "source": [
        "list_A[0]"
      ],
      "metadata": {
        "id": "Z05HZYS6TcPA",
        "outputId": "1a2d336b-3282-4928-89ed-3e70a30a300d",
        "colab": {
          "base_uri": "https://localhost:8080/"
        }
      },
      "execution_count": 52,
      "outputs": [
        {
          "output_type": "execute_result",
          "data": {
            "text/plain": [
              "1"
            ]
          },
          "metadata": {},
          "execution_count": 52
        }
      ]
    },
    {
      "cell_type": "code",
      "source": [
        "5 * arr_a #Matrix ( scalar multiplication )"
      ],
      "metadata": {
        "id": "6jBBvLtoTcHo",
        "outputId": "9f94417a-8900-4fa5-8686-7801745e4014",
        "colab": {
          "base_uri": "https://localhost:8080/"
        }
      },
      "execution_count": 53,
      "outputs": [
        {
          "output_type": "execute_result",
          "data": {
            "text/plain": [
              "array([ 5, 10, 15, 20, 25])"
            ]
          },
          "metadata": {},
          "execution_count": 53
        }
      ]
    },
    {
      "cell_type": "code",
      "source": [
        "5 * list_A"
      ],
      "metadata": {
        "id": "RFJozug8FYXN",
        "outputId": "94c506df-6d72-4b09-e812-ba2ac4d2932f",
        "colab": {
          "base_uri": "https://localhost:8080/"
        }
      },
      "execution_count": 54,
      "outputs": [
        {
          "output_type": "execute_result",
          "data": {
            "text/plain": [
              "[1, 2, 3, 4, 5, 1, 2, 3, 4, 5, 1, 2, 3, 4, 5, 1, 2, 3, 4, 5, 1, 2, 3, 4, 5]"
            ]
          },
          "metadata": {},
          "execution_count": 54
        }
      ]
    },
    {
      "cell_type": "code",
      "source": [
        "arr_b = numpy.array([10,20,30,40,50])"
      ],
      "metadata": {
        "id": "6YvipRClFYU-"
      },
      "execution_count": 55,
      "outputs": []
    },
    {
      "cell_type": "code",
      "source": [
        "print(arr_a) "
      ],
      "metadata": {
        "id": "89A-dOjLFYQz",
        "outputId": "35377bc7-6d01-4bd2-bc76-06c445a228f1",
        "colab": {
          "base_uri": "https://localhost:8080/"
        }
      },
      "execution_count": 56,
      "outputs": [
        {
          "output_type": "stream",
          "name": "stdout",
          "text": [
            "[1 2 3 4 5]\n"
          ]
        }
      ]
    },
    {
      "cell_type": "code",
      "source": [
        "arr_a + arr_b"
      ],
      "metadata": {
        "id": "78R1oJCEFYN-",
        "outputId": "b566b0e3-f209-4d33-978f-0bf7221fce2c",
        "colab": {
          "base_uri": "https://localhost:8080/"
        }
      },
      "execution_count": 57,
      "outputs": [
        {
          "output_type": "execute_result",
          "data": {
            "text/plain": [
              "array([11, 22, 33, 44, 55])"
            ]
          },
          "metadata": {},
          "execution_count": 57
        }
      ]
    },
    {
      "cell_type": "markdown",
      "source": [
        "#2D array"
      ],
      "metadata": {
        "id": "-LiMG3zRYAy3"
      }
    },
    {
      "cell_type": "code",
      "source": [
        "import numpy as np"
      ],
      "metadata": {
        "id": "wk3_RtqLYRyk"
      },
      "execution_count": 58,
      "outputs": []
    },
    {
      "cell_type": "code",
      "source": [
        "arr2_z = np.array([[1,2,3],[4,5,6]])"
      ],
      "metadata": {
        "id": "oWKcAxNYFYLh"
      },
      "execution_count": 59,
      "outputs": []
    },
    {
      "cell_type": "code",
      "source": [
        "arr2_z"
      ],
      "metadata": {
        "id": "MlrjiP-rFYIy",
        "outputId": "d18a4ae2-c89d-402e-a487-63ba4dfcae98",
        "colab": {
          "base_uri": "https://localhost:8080/"
        }
      },
      "execution_count": 60,
      "outputs": [
        {
          "output_type": "execute_result",
          "data": {
            "text/plain": [
              "array([[1, 2, 3],\n",
              "       [4, 5, 6]])"
            ]
          },
          "metadata": {},
          "execution_count": 60
        }
      ]
    },
    {
      "cell_type": "code",
      "source": [
        "print(arr2_z)"
      ],
      "metadata": {
        "id": "rr3R4x_1FYGV",
        "outputId": "7e412005-ec29-4a4d-8e4b-9770d2f60e83",
        "colab": {
          "base_uri": "https://localhost:8080/"
        }
      },
      "execution_count": 61,
      "outputs": [
        {
          "output_type": "stream",
          "name": "stdout",
          "text": [
            "[[1 2 3]\n",
            " [4 5 6]]\n"
          ]
        }
      ]
    },
    {
      "cell_type": "code",
      "source": [
        "arr2_z.shape"
      ],
      "metadata": {
        "id": "lG67WBLtFYA8",
        "outputId": "124391fa-cd78-4e77-8f0b-462a7238677a",
        "colab": {
          "base_uri": "https://localhost:8080/"
        }
      },
      "execution_count": 62,
      "outputs": [
        {
          "output_type": "execute_result",
          "data": {
            "text/plain": [
              "(2, 3)"
            ]
          },
          "metadata": {},
          "execution_count": 62
        }
      ]
    },
    {
      "cell_type": "markdown",
      "source": [
        "#np.zeros()"
      ],
      "metadata": {
        "id": "j0K2lwRLZaai"
      }
    },
    {
      "cell_type": "code",
      "source": [
        "arr2_3_5_0 = np.zeros((3,5))\n",
        "arr2_3_5_0"
      ],
      "metadata": {
        "id": "k4GAzLaDFYDj",
        "outputId": "9f6f3f55-4bb8-4e63-8439-6afb31383120",
        "colab": {
          "base_uri": "https://localhost:8080/"
        }
      },
      "execution_count": 63,
      "outputs": [
        {
          "output_type": "execute_result",
          "data": {
            "text/plain": [
              "array([[0., 0., 0., 0., 0.],\n",
              "       [0., 0., 0., 0., 0.],\n",
              "       [0., 0., 0., 0., 0.]])"
            ]
          },
          "metadata": {},
          "execution_count": 63
        }
      ]
    },
    {
      "cell_type": "code",
      "source": [
        "arr2_3_5_0[1,2] = 9"
      ],
      "metadata": {
        "id": "9M8vmfOKFX-H"
      },
      "execution_count": 64,
      "outputs": []
    },
    {
      "cell_type": "code",
      "source": [
        "arr2_3_5_0"
      ],
      "metadata": {
        "id": "VLaX87JbFX7h",
        "outputId": "3bf3347b-5ba4-4553-e21f-4f6f334928ec",
        "colab": {
          "base_uri": "https://localhost:8080/"
        }
      },
      "execution_count": 65,
      "outputs": [
        {
          "output_type": "execute_result",
          "data": {
            "text/plain": [
              "array([[0., 0., 0., 0., 0.],\n",
              "       [0., 0., 9., 0., 0.],\n",
              "       [0., 0., 0., 0., 0.]])"
            ]
          },
          "metadata": {},
          "execution_count": 65
        }
      ]
    },
    {
      "cell_type": "code",
      "source": [
        "arr2_3_5_0[1,2]"
      ],
      "metadata": {
        "id": "Sc_yEFqKFX5D",
        "outputId": "5a64fd88-aeb5-45e7-960f-82e3fbfad4df",
        "colab": {
          "base_uri": "https://localhost:8080/"
        }
      },
      "execution_count": 66,
      "outputs": [
        {
          "output_type": "execute_result",
          "data": {
            "text/plain": [
              "9.0"
            ]
          },
          "metadata": {},
          "execution_count": 66
        }
      ]
    },
    {
      "cell_type": "code",
      "source": [
        "print(list_A) #เปลี่ยนค่าใน list()\n",
        "list_A[-1] = 'Christmas'\n",
        "print(list_A)"
      ],
      "metadata": {
        "id": "a9C-E2JfFX2W",
        "outputId": "4e065480-74d7-4dae-8e87-1a56893d4b36",
        "colab": {
          "base_uri": "https://localhost:8080/"
        }
      },
      "execution_count": 67,
      "outputs": [
        {
          "output_type": "stream",
          "name": "stdout",
          "text": [
            "[1, 2, 3, 4, 5]\n",
            "[1, 2, 3, 4, 'Christmas']\n"
          ]
        }
      ]
    },
    {
      "cell_type": "markdown",
      "source": [
        "#np.ones()"
      ],
      "metadata": {
        "id": "XZKY1DEvcA-2"
      }
    },
    {
      "cell_type": "code",
      "source": [
        "arr2_4_5_1 = np.ones(((4,5)))"
      ],
      "metadata": {
        "id": "zEHSgD96cDVQ"
      },
      "execution_count": 68,
      "outputs": []
    },
    {
      "cell_type": "code",
      "source": [
        "arr2_4_5_1"
      ],
      "metadata": {
        "id": "PHSOlAdWFXzv",
        "outputId": "c24b693f-c286-40cc-eadf-6361e65126ba",
        "colab": {
          "base_uri": "https://localhost:8080/"
        }
      },
      "execution_count": 69,
      "outputs": [
        {
          "output_type": "execute_result",
          "data": {
            "text/plain": [
              "array([[1., 1., 1., 1., 1.],\n",
              "       [1., 1., 1., 1., 1.],\n",
              "       [1., 1., 1., 1., 1.],\n",
              "       [1., 1., 1., 1., 1.]])"
            ]
          },
          "metadata": {},
          "execution_count": 69
        }
      ]
    },
    {
      "cell_type": "code",
      "source": [
        "arr2_4_5_200 = 200*np.ones(((4,5)))"
      ],
      "metadata": {
        "id": "WtzCVU59FXxi"
      },
      "execution_count": 70,
      "outputs": []
    },
    {
      "cell_type": "code",
      "source": [
        " arr2_4_5_200"
      ],
      "metadata": {
        "id": "-dmnLIkLFZBT",
        "outputId": "c2545aa3-d1c9-4f7f-88ba-35a38a9b9cab",
        "colab": {
          "base_uri": "https://localhost:8080/"
        }
      },
      "execution_count": 71,
      "outputs": [
        {
          "output_type": "execute_result",
          "data": {
            "text/plain": [
              "array([[200., 200., 200., 200., 200.],\n",
              "       [200., 200., 200., 200., 200.],\n",
              "       [200., 200., 200., 200., 200.],\n",
              "       [200., 200., 200., 200., 200.]])"
            ]
          },
          "metadata": {},
          "execution_count": 71
        }
      ]
    },
    {
      "cell_type": "markdown",
      "source": [
        "#Matrix operation"
      ],
      "metadata": {
        "id": "BlICsAMtc0L8"
      }
    },
    {
      "cell_type": "markdown",
      "source": [
        "###การบวก ลบ matrix $M$ \\pm N$ บวกลบตัวที่อยู่ตำแหน่งเดียวกัน"
      ],
      "metadata": {
        "id": "vvg_P7iFc9NV"
      }
    },
    {
      "cell_type": "code",
      "source": [
        "arr2_4_5_200 + arr2_4_5_1 #การบวก ลบ matrix shape ต้องเท่ากัน"
      ],
      "metadata": {
        "id": "FiOv4QTDFY-e",
        "outputId": "6ca83d76-f869-4cd9-b79e-4af6784babf7",
        "colab": {
          "base_uri": "https://localhost:8080/"
        }
      },
      "execution_count": 73,
      "outputs": [
        {
          "output_type": "execute_result",
          "data": {
            "text/plain": [
              "array([[201., 201., 201., 201., 201.],\n",
              "       [201., 201., 201., 201., 201.],\n",
              "       [201., 201., 201., 201., 201.],\n",
              "       [201., 201., 201., 201., 201.]])"
            ]
          },
          "metadata": {},
          "execution_count": 73
        }
      ]
    },
    {
      "cell_type": "code",
      "source": [
        "arr2_4_5_200 +  arr2_4_5_1"
      ],
      "metadata": {
        "id": "iXb80-wiasuV",
        "outputId": "ef41d039-5ba9-4a60-e184-1571a435e247",
        "colab": {
          "base_uri": "https://localhost:8080/"
        }
      },
      "execution_count": 74,
      "outputs": [
        {
          "output_type": "execute_result",
          "data": {
            "text/plain": [
              "array([[201., 201., 201., 201., 201.],\n",
              "       [201., 201., 201., 201., 201.],\n",
              "       [201., 201., 201., 201., 201.],\n",
              "       [201., 201., 201., 201., 201.]])"
            ]
          },
          "metadata": {},
          "execution_count": 74
        }
      ]
    },
    {
      "cell_type": "markdown",
      "source": [
        "###การคูณ MATRIX"
      ],
      "metadata": {
        "id": "2dusg20UdZu9"
      }
    },
    {
      "cell_type": "markdown",
      "source": [
        "- $aM$ scalar คูณ matrix (คูณกระจายเข้าไปทุกตัว)\n",
        "\n",
        "- $M\\times N$ คูณ Matrix(แถวคูณหลัก)"
      ],
      "metadata": {
        "id": "pzgtfJ_Bdh7y"
      }
    },
    {
      "cell_type": "code",
      "source": [
        "5 * arr_a"
      ],
      "metadata": {
        "id": "DysbjxKxFY8E",
        "outputId": "5e2b3638-c1b6-45d4-c304-9830eb5a7e8b",
        "colab": {
          "base_uri": "https://localhost:8080/"
        }
      },
      "execution_count": 75,
      "outputs": [
        {
          "output_type": "execute_result",
          "data": {
            "text/plain": [
              "array([ 5, 10, 15, 20, 25])"
            ]
          },
          "metadata": {},
          "execution_count": 75
        }
      ]
    },
    {
      "cell_type": "code",
      "source": [
        "mat_a = np.array([[2,3,5],[4,6,7]])\n",
        "mat_b = np.array([[1,2,5],[2,4,-7]])\n",
        "mat_c = np.array([[2,3],[4,6],[7,9]])"
      ],
      "metadata": {
        "id": "DEJ4gpoFFY5t"
      },
      "execution_count": 76,
      "outputs": []
    },
    {
      "cell_type": "code",
      "source": [
        "mat_a"
      ],
      "metadata": {
        "id": "zG7tRY_gFY2z",
        "outputId": "11c14455-3a2f-43d0-a27b-69359b64ceb7",
        "colab": {
          "base_uri": "https://localhost:8080/"
        }
      },
      "execution_count": 77,
      "outputs": [
        {
          "output_type": "execute_result",
          "data": {
            "text/plain": [
              "array([[2, 3, 5],\n",
              "       [4, 6, 7]])"
            ]
          },
          "metadata": {},
          "execution_count": 77
        }
      ]
    },
    {
      "cell_type": "code",
      "source": [
        "mat_b"
      ],
      "metadata": {
        "id": "41rs92tqFYwp",
        "outputId": "471fc5fc-ab84-4d98-ae70-5f5699dcbe83",
        "colab": {
          "base_uri": "https://localhost:8080/"
        }
      },
      "execution_count": 78,
      "outputs": [
        {
          "output_type": "execute_result",
          "data": {
            "text/plain": [
              "array([[ 1,  2,  5],\n",
              "       [ 2,  4, -7]])"
            ]
          },
          "metadata": {},
          "execution_count": 78
        }
      ]
    },
    {
      "cell_type": "code",
      "source": [
        "mat_c"
      ],
      "metadata": {
        "id": "CfbtY1dWFYuR",
        "outputId": "bac24c67-2160-49b5-d9bc-f58a30aa7a93",
        "colab": {
          "base_uri": "https://localhost:8080/"
        }
      },
      "execution_count": 79,
      "outputs": [
        {
          "output_type": "execute_result",
          "data": {
            "text/plain": [
              "array([[2, 3],\n",
              "       [4, 6],\n",
              "       [7, 9]])"
            ]
          },
          "metadata": {},
          "execution_count": 79
        }
      ]
    },
    {
      "cell_type": "code",
      "source": [
        "np.dot(mat_a,mat_c)"
      ],
      "metadata": {
        "id": "uL7kp6KEFYr2",
        "outputId": "ee1aaf27-45a9-44cc-ee84-dae47e4a7b44",
        "colab": {
          "base_uri": "https://localhost:8080/"
        }
      },
      "execution_count": 80,
      "outputs": [
        {
          "output_type": "execute_result",
          "data": {
            "text/plain": [
              "array([[ 51,  69],\n",
              "       [ 81, 111]])"
            ]
          },
          "metadata": {},
          "execution_count": 80
        }
      ]
    },
    {
      "cell_type": "code",
      "source": [
        "np.dot(mat_b,mat_c)"
      ],
      "metadata": {
        "id": "lWdjGixpMBxf",
        "outputId": "7204b13b-1d84-4287-c00e-e921f2c1ea1f",
        "colab": {
          "base_uri": "https://localhost:8080/"
        }
      },
      "execution_count": 81,
      "outputs": [
        {
          "output_type": "execute_result",
          "data": {
            "text/plain": [
              "array([[ 45,  60],\n",
              "       [-29, -33]])"
            ]
          },
          "metadata": {},
          "execution_count": 81
        }
      ]
    },
    {
      "cell_type": "code",
      "source": [
        "np.dot(mat_c,mat_a)"
      ],
      "metadata": {
        "id": "AN9mjvZ9MBvP",
        "outputId": "fd860fa5-8cf1-453a-8e56-07d3ff9c4948",
        "colab": {
          "base_uri": "https://localhost:8080/"
        }
      },
      "execution_count": 82,
      "outputs": [
        {
          "output_type": "execute_result",
          "data": {
            "text/plain": [
              "array([[16, 24, 31],\n",
              "       [32, 48, 62],\n",
              "       [50, 75, 98]])"
            ]
          },
          "metadata": {},
          "execution_count": 82
        }
      ]
    },
    {
      "cell_type": "code",
      "source": [
        "mat_X = np.dot(mat_c,mat_b)\n",
        "print(mat_X)"
      ],
      "metadata": {
        "id": "00eY-Q4eMBtL",
        "outputId": "1e4a0e97-7616-4fe6-f82c-249dc5bdbf0c",
        "colab": {
          "base_uri": "https://localhost:8080/"
        }
      },
      "execution_count": 83,
      "outputs": [
        {
          "output_type": "stream",
          "name": "stdout",
          "text": [
            "[[  8  16 -11]\n",
            " [ 16  32 -22]\n",
            " [ 25  50 -28]]\n"
          ]
        }
      ]
    },
    {
      "cell_type": "code",
      "source": [
        "mat_a * mat_b"
      ],
      "metadata": {
        "id": "CNmPc25BzxAs",
        "outputId": "c757e709-de25-4793-c122-b3aa17078f90",
        "colab": {
          "base_uri": "https://localhost:8080/"
        }
      },
      "execution_count": 84,
      "outputs": [
        {
          "output_type": "execute_result",
          "data": {
            "text/plain": [
              "array([[  2,   6,  25],\n",
              "       [  8,  24, -49]])"
            ]
          },
          "metadata": {},
          "execution_count": 84
        }
      ]
    },
    {
      "cell_type": "markdown",
      "source": [
        "#Matrix Slicing"
      ],
      "metadata": {
        "id": "s3fGgB1dzz73"
      }
    },
    {
      "cell_type": "code",
      "source": [
        "mat_X[:2,:2]"
      ],
      "metadata": {
        "id": "KfUwv_shzw-G",
        "outputId": "9d2c8219-9a98-40fd-92ea-6afb8a5fe490",
        "colab": {
          "base_uri": "https://localhost:8080/"
        }
      },
      "execution_count": 85,
      "outputs": [
        {
          "output_type": "execute_result",
          "data": {
            "text/plain": [
              "array([[ 8, 16],\n",
              "       [16, 32]])"
            ]
          },
          "metadata": {},
          "execution_count": 85
        }
      ]
    },
    {
      "cell_type": "markdown",
      "source": [
        "#HW 3\n",
        "\n",
        "สร้าง array ที่เป็นรูป ต้น Christmas\n",
        "\n",
        "slice เลข 1 ออกมาจาก array HW3 ด้วยการ slice แค่ครั้งเดียว"
      ],
      "metadata": {
        "id": "053eCjSTz2jC"
      }
    },
    {
      "cell_type": "markdown",
      "source": [
        "# สร้างต้น Christmas"
      ],
      "metadata": {
        "id": "kjL6e693z5Vr"
      }
    },
    {
      "cell_type": "code",
      "source": [
        "CT = np.zeros((11,11))\n",
        "CT[::1,6] = 88\n",
        "CT[1:2,4:8] = 88\n",
        "CT[2:3,2:10] =  88\n",
        "CT[3:4,1:11] =  88\n",
        "CT[4:5,3:8] =  88\n",
        "CT[5:6,1:10] = 88\n",
        "CT[6:7,0:11] =  88\n",
        "CT[7:8,4:8] =11\n",
        "CT[8:9,4:8] = 11\n",
        "CT[9:10,4:8] = 11\n",
        "CT[10:11,4:8] = 11\n",
        "print(CT)"
      ],
      "metadata": {
        "id": "6_wgKe50zw7z",
        "outputId": "cf6734ea-afb5-4581-f10d-55bf50ddbd3f",
        "colab": {
          "base_uri": "https://localhost:8080/"
        }
      },
      "execution_count": 156,
      "outputs": [
        {
          "output_type": "stream",
          "name": "stdout",
          "text": [
            "[[ 0.  0.  0.  0.  0.  0. 88.  0.  0.  0.  0.]\n",
            " [ 0.  0.  0.  0. 88. 88. 88. 88.  0.  0.  0.]\n",
            " [ 0.  0. 88. 88. 88. 88. 88. 88. 88. 88.  0.]\n",
            " [ 0. 88. 88. 88. 88. 88. 88. 88. 88. 88. 88.]\n",
            " [ 0.  0.  0. 88. 88. 88. 88. 88.  0.  0.  0.]\n",
            " [ 0. 88. 88. 88. 88. 88. 88. 88. 88. 88.  0.]\n",
            " [88. 88. 88. 88. 88. 88. 88. 88. 88. 88. 88.]\n",
            " [ 0.  0.  0.  0. 11. 11. 11. 11.  0.  0.  0.]\n",
            " [ 0.  0.  0.  0. 11. 11. 11. 11.  0.  0.  0.]\n",
            " [ 0.  0.  0.  0. 11. 11. 11. 11.  0.  0.  0.]\n",
            " [ 0.  0.  0.  0. 11. 11. 11. 11.  0.  0.  0.]]\n"
          ]
        }
      ]
    },
    {
      "cell_type": "code",
      "source": [
        "HW_3 = np.zeros((10,10))\n",
        "HW_3"
      ],
      "metadata": {
        "id": "ATe75GSYzw5k",
        "outputId": "0db5e10a-d72c-4225-9d93-aec63c4f0adc",
        "colab": {
          "base_uri": "https://localhost:8080/"
        }
      },
      "execution_count": 157,
      "outputs": [
        {
          "output_type": "execute_result",
          "data": {
            "text/plain": [
              "array([[0., 0., 0., 0., 0., 0., 0., 0., 0., 0.],\n",
              "       [0., 0., 0., 0., 0., 0., 0., 0., 0., 0.],\n",
              "       [0., 0., 0., 0., 0., 0., 0., 0., 0., 0.],\n",
              "       [0., 0., 0., 0., 0., 0., 0., 0., 0., 0.],\n",
              "       [0., 0., 0., 0., 0., 0., 0., 0., 0., 0.],\n",
              "       [0., 0., 0., 0., 0., 0., 0., 0., 0., 0.],\n",
              "       [0., 0., 0., 0., 0., 0., 0., 0., 0., 0.],\n",
              "       [0., 0., 0., 0., 0., 0., 0., 0., 0., 0.],\n",
              "       [0., 0., 0., 0., 0., 0., 0., 0., 0., 0.],\n",
              "       [0., 0., 0., 0., 0., 0., 0., 0., 0., 0.]])"
            ]
          },
          "metadata": {},
          "execution_count": 157
        }
      ]
    },
    {
      "cell_type": "code",
      "source": [
        "HW3[::4,2] = 1\n",
        "HW3[::4,4] = 1\n",
        "HW3[::4,6] = 1\n",
        "HW3[::4,8] = 1\n",
        "HW3"
      ],
      "metadata": {
        "id": "H0MT-Dflzw3W",
        "outputId": "7ba634b6-9e10-4475-a68d-605bf81f9a11",
        "colab": {
          "base_uri": "https://localhost:8080/"
        }
      },
      "execution_count": 158,
      "outputs": [
        {
          "output_type": "execute_result",
          "data": {
            "text/plain": [
              "array([[0., 0., 1., 0., 1., 0., 1., 0., 1., 0.],\n",
              "       [0., 0., 0., 0., 0., 0., 0., 0., 0., 0.],\n",
              "       [0., 0., 0., 0., 0., 0., 0., 0., 0., 0.],\n",
              "       [0., 0., 0., 0., 0., 0., 0., 0., 0., 0.],\n",
              "       [0., 0., 1., 0., 1., 0., 1., 0., 1., 0.],\n",
              "       [0., 0., 0., 0., 0., 0., 0., 0., 0., 0.],\n",
              "       [0., 0., 0., 0., 0., 0., 0., 0., 0., 0.],\n",
              "       [0., 0., 0., 0., 0., 0., 0., 0., 0., 0.],\n",
              "       [0., 0., 1., 0., 1., 0., 1., 0., 1., 0.],\n",
              "       [0., 0., 0., 0., 0., 0., 0., 0., 0., 0.]])"
            ]
          },
          "metadata": {},
          "execution_count": 158
        }
      ]
    },
    {
      "cell_type": "code",
      "source": [
        "HW_3[::4,2::2] # slice เลข 1 "
      ],
      "metadata": {
        "id": "qwBm1Ydnzw1O",
        "outputId": "fbc96222-66cd-4b3c-e95a-2de71c2148bd",
        "colab": {
          "base_uri": "https://localhost:8080/"
        }
      },
      "execution_count": 159,
      "outputs": [
        {
          "output_type": "execute_result",
          "data": {
            "text/plain": [
              "array([[0., 0., 0., 0.],\n",
              "       [0., 0., 0., 0.],\n",
              "       [0., 0., 0., 0.]])"
            ]
          },
          "metadata": {},
          "execution_count": 159
        }
      ]
    },
    {
      "cell_type": "code",
      "source": [
        ""
      ],
      "metadata": {
        "id": "RGSG8EgIMBVT"
      },
      "execution_count": 159,
      "outputs": []
    }
  ]
}